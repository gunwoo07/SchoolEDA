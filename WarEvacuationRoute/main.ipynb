{
 "cells": [],
 "metadata": {
  "kernelspec": {
   "name": "python3",
   "display_name": "Python 3.8.8 64-bit ('base': conda)"
  },
  "language_info": {
   "codemirror_mode": {
    "name": "ipython",
    "version": 3
   },
   "file_extension": ".py",
   "mimetype": "text/x-python",
   "name": "python",
   "nbconvert_exporter": "python",
   "pygments_lexer": "ipython3",
   "version": "3.8.8"
  },
  "interpreter": {
   "hash": "a0cabb4226163b0c5846fa5054f724000bd08d2f59f34a4cdc2cc9b907955440"
  }
 },
 "nbformat": 4,
 "nbformat_minor": 5
}